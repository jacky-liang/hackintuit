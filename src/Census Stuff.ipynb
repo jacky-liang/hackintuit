{
 "cells": [
  {
   "cell_type": "code",
   "execution_count": 18,
   "metadata": {
    "collapsed": false
   },
   "outputs": [],
   "source": [
    "import numpy as np\n",
    "from sklearn.metrics import mean_absolute_error, r2_score\n",
    "from sklearn.cross_validation import train_test_split\n",
    "import tflearn\n",
    "import joblib"
   ]
  },
  {
   "cell_type": "code",
   "execution_count": 2,
   "metadata": {
    "collapsed": false
   },
   "outputs": [],
   "source": [
    "X = np.arange(100)\n",
    "X = X.reshape(-1,1)\n",
    "std = 25\n",
    "y = X * 5 + np.random.normal(0, std, X.shape)"
   ]
  },
  {
   "cell_type": "code",
   "execution_count": 3,
   "metadata": {
    "collapsed": false
   },
   "outputs": [],
   "source": [
    "X_tr, X_t, y_tr, y_t = train_test_split(X, y, test_size=0.3)"
   ]
  },
  {
   "cell_type": "code",
   "execution_count": 4,
   "metadata": {
    "collapsed": false
   },
   "outputs": [],
   "source": [
    "l0 = tflearn.input_data(shape=[None,1])\n",
    "l1 = tflearn.fully_connected(l0, 100, activation='relu')\n",
    "l2 = tflearn.fully_connected(l1, 1)\n",
    "net = tflearn.regression(l2, loss=\"mean_square\", restore=False)"
   ]
  },
  {
   "cell_type": "code",
   "execution_count": 5,
   "metadata": {
    "collapsed": false
   },
   "outputs": [],
   "source": [
    "model = tflearn.DNN(net)"
   ]
  },
  {
   "cell_type": "code",
   "execution_count": 6,
   "metadata": {
    "collapsed": false
   },
   "outputs": [
    {
     "name": "stdout",
     "output_type": "stream",
     "text": [
      "Training Step: 1000  | total loss: \u001b[1m\u001b[32m745.65228\u001b[0m\u001b[0m\n",
      "| Adam | epoch: 500 | loss: 745.65228 -- iter: 70/70\n",
      "Training Step: 1000  | total loss: \u001b[1m\u001b[32m745.65228\u001b[0m\u001b[0m\n",
      "| Adam | epoch: 500 | loss: 745.65228 -- iter: 70/70\n",
      "--\n"
     ]
    }
   ],
   "source": [
    "model.fit(X_tr, y_tr, n_epoch=500)"
   ]
  },
  {
   "cell_type": "code",
   "execution_count": 17,
   "metadata": {
    "collapsed": false
   },
   "outputs": [
    {
     "name": "stdout",
     "output_type": "stream",
     "text": [
      "16.4513112952 0.973639519993\n"
     ]
    }
   ],
   "source": [
    "# saving model\n",
    "data = {\n",
    "    'l1W':model.get_weights(l1.W),\n",
    "    'l1b':model.get_weights(l1.b),\n",
    "    'l2W':model.get_weights(l2.W),\n",
    "    'l2b':model.get_weights(l2.b),\n",
    "}\n",
    "joblib.dump(data, 'model.tfl', compress=3)\n",
    "# loading model\n",
    "data_loaded = joblib.load('model.tfl')\n",
    "model_loaded = tflearn.DNN(net)\n",
    "model_loaded.set_weights(l1.W, data_loaded['l1W'])\n",
    "model_loaded.set_weights(l1.b, data_loaded['l1b'])\n",
    "model_loaded.set_weights(l2.W, data_loaded['l2W'])\n",
    "model_loaded.set_weights(l2.b, data_loaded['l2b'])\n",
    "y_pred = model.predict(X_t)\n",
    "mae = mean_absolute_error(y_pred, y_t)\n",
    "r2 = r2_score(y_pred, y_t)\n",
    "print mae, r2"
   ]
  },
  {
   "cell_type": "code",
   "execution_count": 13,
   "metadata": {
    "collapsed": false
   },
   "outputs": [],
   "source": [
    "m2 = tflearn.DNN(net)"
   ]
  },
  {
   "cell_type": "code",
   "execution_count": 15,
   "metadata": {
    "collapsed": false
   },
   "outputs": [],
   "source": []
  },
  {
   "cell_type": "code",
   "execution_count": 16,
   "metadata": {
    "collapsed": false
   },
   "outputs": [
    {
     "name": "stdout",
     "output_type": "stream",
     "text": [
      "16.4513112952 0.973639519993\n"
     ]
    }
   ],
   "source": [
    "y_pred2 = m2.predict(X_t)\n",
    "mae = mean_absolute_error(y_pred2, y_t)\n",
    "r2 = r2_score(y_pred2, y_t)\n",
    "print mae, r2"
   ]
  }
 ],
 "metadata": {
  "kernelspec": {
   "display_name": "Python 2",
   "language": "python",
   "name": "python2"
  },
  "language_info": {
   "codemirror_mode": {
    "name": "ipython",
    "version": 2
   },
   "file_extension": ".py",
   "mimetype": "text/x-python",
   "name": "python",
   "nbconvert_exporter": "python",
   "pygments_lexer": "ipython2",
   "version": "2.7.12"
  }
 },
 "nbformat": 4,
 "nbformat_minor": 0
}
