{
 "cells": [
  {
   "cell_type": "code",
   "execution_count": 1,
   "metadata": {
    "collapsed": false
   },
   "outputs": [],
   "source": [
    "import numpy as np\n",
    "from sklearn.metrics import mean_absolute_error, r2_score\n",
    "from sklearn.cross_validation import train_test_split\n",
    "import tflearn\n",
    "import joblib"
   ]
  },
  {
   "cell_type": "code",
   "execution_count": 2,
   "metadata": {
    "collapsed": false
   },
   "outputs": [],
   "source": [
    "data = np.load('data/combined_data.npy')"
   ]
  },
  {
   "cell_type": "code",
   "execution_count": 3,
   "metadata": {
    "collapsed": false
   },
   "outputs": [],
   "source": [
    "X = data[:,:-3]\n",
    "y = data[:,-1].reshape(-1,1)"
   ]
  },
  {
   "cell_type": "code",
   "execution_count": 4,
   "metadata": {
    "collapsed": false
   },
   "outputs": [
    {
     "name": "stdout",
     "output_type": "stream",
     "text": [
      "(80000, 10) (80000, 1)\n"
     ]
    }
   ],
   "source": [
    "print X.shape, y.shape"
   ]
  },
  {
   "cell_type": "code",
   "execution_count": 5,
   "metadata": {
    "collapsed": false
   },
   "outputs": [],
   "source": [
    "X_tr, X_t, y_tr, y_t = train_test_split(X, y, test_size=0.3)"
   ]
  },
  {
   "cell_type": "code",
   "execution_count": 6,
   "metadata": {
    "collapsed": false
   },
   "outputs": [],
   "source": [
    "l0 = tflearn.input_data(shape=[None,10])\n",
    "l1 = tflearn.fully_connected(l0, 100, activation='relu')\n",
    "l2 = tflearn.fully_connected(l1, 100, activation='relu')\n",
    "l3 = tflearn.fully_connected(l2, 50, activation='relu')\n",
    "lf = tflearn.fully_connected(l3, 1)\n",
    "net = tflearn.regression(lf, loss=\"mean_square\", restore=False)"
   ]
  },
  {
   "cell_type": "code",
   "execution_count": 7,
   "metadata": {
    "collapsed": false
   },
   "outputs": [],
   "source": [
    "model = tflearn.DNN(net)"
   ]
  },
  {
   "cell_type": "code",
   "execution_count": 12,
   "metadata": {
    "collapsed": false
   },
   "outputs": [
    {
     "name": "stdout",
     "output_type": "stream",
     "text": [
      "Training Step: 79222  | total loss: \u001b[1m\u001b[32m856449920.00000\u001b[0m\u001b[0m\n",
      "| Adam | epoch: 060 | loss: 856449920.00000 -- iter: 56000/56000\n",
      "Training Step: 79222  | total loss: \u001b[1m\u001b[32m856449920.00000\u001b[0m\u001b[0m\n",
      "| Adam | epoch: 060 | loss: 856449920.00000 -- iter: 56000/56000\n",
      "--\n"
     ]
    }
   ],
   "source": [
    "model.fit(X_tr, y_tr, n_epoch=60)"
   ]
  },
  {
   "cell_type": "code",
   "execution_count": 13,
   "metadata": {
    "collapsed": false
   },
   "outputs": [],
   "source": [
    "y_pred = model.predict(X_tr)"
   ]
  },
  {
   "cell_type": "code",
   "execution_count": 14,
   "metadata": {
    "collapsed": false
   },
   "outputs": [
    {
     "name": "stdout",
     "output_type": "stream",
     "text": [
      "20059.1767432 -6.00177651517\n"
     ]
    }
   ],
   "source": [
    "mae = mean_absolute_error(y_pred, y_tr)\n",
    "r2 = r2_score(y_pred, y_tr)\n",
    "print mae, r2"
   ]
  },
  {
   "cell_type": "code",
   "execution_count": 19,
   "metadata": {
    "collapsed": false
   },
   "outputs": [
    {
     "name": "stdout",
     "output_type": "stream",
     "text": [
      "33915.7766429\n"
     ]
    }
   ],
   "source": [
    "print np.mean(y_tr)"
   ]
  },
  {
   "cell_type": "code",
   "execution_count": 16,
   "metadata": {
    "collapsed": false
   },
   "outputs": [
    {
     "data": {
      "text/plain": [
       "['models/model.tfl']"
      ]
     },
     "execution_count": 16,
     "metadata": {},
     "output_type": "execute_result"
    }
   ],
   "source": [
    "# saving model\n",
    "data = {\n",
    "    'l1W':model.get_weights(l1.W),\n",
    "    'l1b':model.get_weights(l1.b),\n",
    "    'l2W':model.get_weights(l2.W),\n",
    "    'l2b':model.get_weights(l2.b),\n",
    "    'l3W':model.get_weights(l3.W),\n",
    "    'l3b':model.get_weights(l3.b),\n",
    "    'lfW':model.get_weights(lf.W),\n",
    "    'lfb':model.get_weights(lf.b),\n",
    "}\n",
    "joblib.dump(data, 'models/model.tfl', compress=3)"
   ]
  },
  {
   "cell_type": "code",
   "execution_count": null,
   "metadata": {
    "collapsed": false
   },
   "outputs": [],
   "source": [
    "# loading model\n",
    "data_loaded = joblib.load('models/model.tfl')\n",
    "model_loaded = tflearn.DNN(net)\n",
    "model_loaded.set_weights(l1.W, data_loaded['l1W'])\n",
    "model_loaded.set_weights(l1.b, data_loaded['l1b'])\n",
    "model_loaded.set_weights(l2.W, data_loaded['l2W'])\n",
    "model_loaded.set_weights(l2.b, data_loaded['l2b'])\n",
    "y_pred = model.predict(X_t)"
   ]
  },
  {
   "cell_type": "code",
   "execution_count": null,
   "metadata": {
    "collapsed": false
   },
   "outputs": [],
   "source": [
    "y_pred2 = model_loaded.predict(X_t)\n",
    "mae = mean_absolute_error(y_pred2, y_t)\n",
    "r2 = r2_score(y_pred2, y_t)\n",
    "print mae, r2"
   ]
  },
  {
   "cell_type": "code",
   "execution_count": 7,
   "metadata": {
    "collapsed": true
   },
   "outputs": [],
   "source": [
    "model2 = tflearn.DNN(net, tensorboard_verbose=3)"
   ]
  },
  {
   "cell_type": "code",
   "execution_count": 8,
   "metadata": {
    "collapsed": false
   },
   "outputs": [
    {
     "name": "stdout",
     "output_type": "stream",
     "text": [
      "Training Step: 875  | total loss: \u001b[1m\u001b[32m1085846144.00000\u001b[0m\u001b[0m\n",
      "| Adam | epoch: 001 | loss: 1085846144.00000 -- iter: 56000/56000\n",
      "Training Step: 875  | total loss: \u001b[1m\u001b[32m1085846144.00000\u001b[0m\u001b[0m\n",
      "| Adam | epoch: 001 | loss: 1085846144.00000 -- iter: 56000/56000\n",
      "--\n"
     ]
    }
   ],
   "source": [
    "model2.fit(X_tr, y_tr, n_epoch=1)"
   ]
  }
 ],
 "metadata": {
  "kernelspec": {
   "display_name": "Python 2",
   "language": "python",
   "name": "python2"
  },
  "language_info": {
   "codemirror_mode": {
    "name": "ipython",
    "version": 2
   },
   "file_extension": ".py",
   "mimetype": "text/x-python",
   "name": "python",
   "nbconvert_exporter": "python",
   "pygments_lexer": "ipython2",
   "version": "2.7.11"
  }
 },
 "nbformat": 4,
 "nbformat_minor": 0
}
